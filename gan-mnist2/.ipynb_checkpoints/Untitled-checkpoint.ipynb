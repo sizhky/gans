{
 "cells": [
  {
   "cell_type": "code",
   "execution_count": null,
   "metadata": {
    "ExecuteTime": {
     "start_time": "2020-05-25T13:02:36.510Z"
    }
   },
   "outputs": [
    {
     "name": "stdout",
     "output_type": "stream",
     "text": [
      "Epoch: 000 Step: 209 G-Loss: 100.000 D-Loss: 0.000\r"
     ]
    }
   ],
   "source": [
    "%matplotlib inline\n",
    "from torch_snippets import *\n",
    "from torchvision.utils import make_grid\n",
    "\n",
    "from gan.config import lr, bs as batch_size\n",
    "from gan.load_mnist import data_loader\n",
    "from gan.discriminator import Discriminator\n",
    "from gan.generator import CNNGenerator as Generator\n",
    "\n",
    "from datetime import datetime\n",
    "def now(): return f'{datetime.now():%H:%M@%d-%m-%y}'\n",
    "\n",
    "generator = Generator().cuda()\n",
    "discriminator = Discriminator().cuda()\n",
    "\n",
    "criterion = nn.BCELoss()\n",
    "d_optimizer = torch.optim.Adam(discriminator.parameters(), lr=1e-3)\n",
    "g_optimizer = torch.optim.Adam(generator.parameters(), lr=1e-3)\n",
    "\n",
    "# writer = SummaryWriter(logdir=f'../runs/mnist_gan2_{now()}:cnn2:lr={lr}:bs={batch_size}')\n",
    "\n",
    "def generator_train_step(batch_size, discriminator, generator, g_optimizer, criterion):\n",
    "    g_optimizer.zero_grad()\n",
    "    z = torch.randn(batch_size, 100).cuda()\n",
    "    fake_images = generator(z)\n",
    "    validity = discriminator(fake_images)\n",
    "    g_loss = criterion(validity, torch.ones(batch_size).cuda())\n",
    "    g_loss.backward()\n",
    "    g_optimizer.step()\n",
    "    return g_loss.item()\n",
    "\n",
    "def discriminator_train_step(batch_size, discriminator, generator, d_optimizer, criterion, real_images, labels):\n",
    "    d_optimizer.zero_grad()\n",
    "\n",
    "    # train with real images\n",
    "    real_validity = discriminator(real_images)\n",
    "    real_loss = criterion(real_validity, torch.ones(batch_size).cuda())\n",
    "\n",
    "    # train with fake images\n",
    "    z = torch.randn(batch_size, 100).cuda()\n",
    "    fake_images = generator(z)\n",
    "    fake_validity = discriminator(fake_images)\n",
    "    fake_loss = criterion(fake_validity, torch.zeros(batch_size).cuda())\n",
    "\n",
    "    d_loss = real_loss + fake_loss\n",
    "    d_loss.backward()\n",
    "    d_optimizer.step()\n",
    "    return d_loss.item()\n",
    "\n",
    "num_epochs = 400\n",
    "n_critic = 5\n",
    "display_step = len(data_loader)\n",
    "save_step = 1000\n",
    "for epoch in range(num_epochs):\n",
    "    # print('Starting epoch {}...'.format(epoch), end=' ')\n",
    "    for i, (images, labels) in enumerate(data_loader):\n",
    "\n",
    "        step = epoch * len(data_loader) + i + 1\n",
    "        real_images = images.cuda()\n",
    "        labels = labels.cuda()\n",
    "        generator.train()\n",
    "\n",
    "        d_loss = discriminator_train_step(len(real_images), discriminator,\n",
    "                                          generator, d_optimizer, criterion,\n",
    "                                          real_images, labels)\n",
    "\n",
    "\n",
    "        for _ in range(n_critic):\n",
    "            g_loss = generator_train_step(batch_size, discriminator, generator, g_optimizer, criterion)\n",
    "\n",
    "        # writer.add_scalar('cnn_cgan_mnist/g_loss', g_loss, step)\n",
    "        # writer.add_scalar('cnn_cgan_mnist/d_loss', d_loss, step)\n",
    "\n",
    "        if step % display_step == 0:\n",
    "            generator.eval()\n",
    "            z = torch.randn(100, 100).cuda()\n",
    "            sample_images = generator(z).unsqueeze(1)\n",
    "            grid = make_grid(sample_images, nrow=10, normalize=True)\n",
    "            show(grid.cpu().detach().permute(1,2,0), sz=5)\n",
    "            # writer.add_image('cnn_cgan_mnist/image', grid, step)\n",
    "        torch.save(generator.state_dict(), 'models/generator.ptsd')\n",
    "        print(f'Epoch: {epoch:03d} Step: {i:03d} G-Loss: {g_loss:.3f} D-Loss: {d_loss:.3f}', end='\\r')\n",
    "        # writer.flush()\n"
   ]
  },
  {
   "cell_type": "code",
   "execution_count": null,
   "metadata": {},
   "outputs": [],
   "source": []
  }
 ],
 "metadata": {
  "hide_input": false,
  "kernelspec": {
   "display_name": "Python 3",
   "language": "python",
   "name": "python3"
  },
  "language_info": {
   "codemirror_mode": {
    "name": "ipython",
    "version": 3
   },
   "file_extension": ".py",
   "mimetype": "text/x-python",
   "name": "python",
   "nbconvert_exporter": "python",
   "pygments_lexer": "ipython3",
   "version": "3.7.4"
  }
 },
 "nbformat": 4,
 "nbformat_minor": 2
}
